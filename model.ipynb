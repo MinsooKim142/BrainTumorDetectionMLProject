{
 "cells": [
  {
   "cell_type": "code",
   "execution_count": null,
   "outputs": [],
   "source": [
    "import os\n",
    "import tensorflow as tf\n",
    "import tensorflow_datasets as tfds\n",
    "import matplotlib.pyplot as plt\n",
    "from tensorflow import keras\n",
    "from tensorflow.keras.preprocessing.image import ImageDataGenerator\n",
    "from tensorflow.keras.optimizers import RMSprop\n",
    "import PIL\n",
    "import PIL.Image\n",
    "from PIL import Image\n",
    "import numpy as np\n",
    "import cv2\n",
    "import sys\n"
   ],
   "metadata": {
    "collapsed": false,
    "pycharm": {
     "name": "#%%\n"
    }
   }
  },
  {
   "cell_type": "code",
   "execution_count": null,
   "outputs": [],
   "source": [
    "print(tf.__version__)"
   ],
   "metadata": {
    "collapsed": false,
    "pycharm": {
     "name": "#%%\n"
    }
   }
  },
  {
   "cell_type": "code",
   "execution_count": null,
   "outputs": [],
   "source": [
    "train = ImageDataGenerator(rescale = 1/255)\n",
    "valid = ImageDataGenerator(rescale = 1/255)"
   ],
   "metadata": {
    "collapsed": false,
    "pycharm": {
     "name": "#%%\n"
    }
   }
  },
  {
   "cell_type": "code",
   "execution_count": null,
   "outputs": [],
   "source": [
    "#Imports the datasets from the directory in the file. \n",
    "trainDataset = train.flow_from_directory('dataset/', target_size = (200, 200), batch_size = 3, class_mode = 'binary')\n",
    "validDataset = train.flow_from_directory('brain_tumor_dataset', target_size = (200, 200), batch_size = 3, class_mode = 'binary')"
   ],
   "metadata": {
    "collapsed": false,
    "pycharm": {
     "name": "#%%\n"
    }
   }
  },
  {
   "cell_type": "code",
   "execution_count": null,
   "outputs": [],
   "source": [
    "trainDataset.class_indices\n"
   ],
   "metadata": {
    "collapsed": false,
    "pycharm": {
     "name": "#%%\n"
    }
   }
  },
  {
   "cell_type": "code",
   "execution_count": null,
   "outputs": [],
   "source": [
    "dataModel = tf.keras.models.Sequential([tf.keras.layers.Conv2D(16,(3,3), activation = 'relu', input_shape = (200,200,3)), \n",
    "                                        tf.keras.layers.MaxPool2D(2,2),\n",
    "                                        \n",
    "                                        #\n",
    "                                        tf.keras.layers.Conv2D(32,(3,3), activation = 'relu', input_shape = (200,200,3)), \n",
    "                                        tf.keras.layers.MaxPool2D(2,2),\n",
    "                                        \n",
    "                                        #\n",
    "                                        tf.keras.layers.Conv2D(64,(3,3), activation = 'relu', input_shape = (200,200,3)), \n",
    "                                        tf.keras.layers.MaxPool2D(2,2),\n",
    "                                        \n",
    "                                        ##\n",
    "                                        tf.keras.layers.Flatten(),\n",
    "                                        \n",
    "                                        ##\n",
    "                                        tf.keras.layers.Dense(512, activation = 'relu'),\n",
    "                                        \n",
    "                                        tf.keras.layers.Dense(1, activation='sigmoid')\n",
    "                                        \n",
    "                                       ])\n",
    "                                        \n",
    "                                        "
   ],
   "metadata": {
    "collapsed": false,
    "pycharm": {
     "name": "#%%\n"
    }
   }
  },
  {
   "cell_type": "code",
   "execution_count": null,
   "outputs": [],
   "source": [
    "dataModel.compile(loss= 'binary_crossentropy', optimizer= RMSprop(lr=0.001), metrics =['accuracy'])"
   ],
   "metadata": {
    "collapsed": false,
    "pycharm": {
     "name": "#%%\n"
    }
   }
  },
  {
   "cell_type": "code",
   "execution_count": null,
   "outputs": [],
   "source": [
    "fitModel = dataModel.fit(trainDataset, steps_per_epoch = 3, epochs=10, validation_data = validDataset)"
   ],
   "metadata": {
    "collapsed": false,
    "pycharm": {
     "name": "#%%\n"
    }
   }
  },
  {
   "cell_type": "code",
   "execution_count": null,
   "outputs": [],
   "source": [],
   "metadata": {
    "collapsed": false,
    "pycharm": {
     "name": "#%%\n"
    }
   }
  },
  {
   "cell_type": "code",
   "execution_count": 27,
   "id": "897c5ff1-087c-4072-aee2-2781a0ff3f56",
   "metadata": {},
   "outputs": [],
   "source": [
    "dataModel = tf.keras.models.Sequential([tf.keras.layers.Conv2D(16,(3,3), activation = 'relu', input_shape = (200,200,3)), \n",
    "                                        tf.keras.layers.MaxPool2D(2,2),\n",
    "                                        \n",
    "                                        #\n",
    "                                        tf.keras.layers.Conv2D(32,(3,3), activation = 'relu', input_shape = (200,200,3)), \n",
    "                                        tf.keras.layers.MaxPool2D(2,2),\n",
    "                                        \n",
    "                                        #\n",
    "                                        tf.keras.layers.Conv2D(64,(3,3), activation = 'relu', input_shape = (200,200,3)), \n",
    "                                        tf.keras.layers.MaxPool2D(2,2),\n",
    "                                        \n",
    "                                        ##\n",
    "                                        tf.keras.layers.Flatten(),\n",
    "                                        \n",
    "                                        ##\n",
    "                                        tf.keras.layers.Dense(512, activation = 'relu'),\n",
    "                                        \n",
    "                                        tf.keras.layers.Dense(1, activation='sigmoid')\n",
    "                                        \n",
    "                                       ])\n",
    "                                        \n",
    "                                        "
   ]
  },
  {
   "cell_type": "code",
   "execution_count": 28,
   "id": "f11362d2",
   "metadata": {
    "pycharm": {
     "name": "#%%\n"
    }
   },
   "outputs": [],
   "source": [
    "dataModel.compile(loss= 'binary_crossentropy', optimizer= RMSprop(lr=0.001), metrics =['accuracy'])"
   ]
  },
  {
   "cell_type": "code",
   "execution_count": 29,
   "id": "9c087758",
   "metadata": {},
   "outputs": [
    {
     "name": "stdout",
     "output_type": "stream",
     "text": [
      "Train for 3 steps, validate for 85 steps\n",
      "Epoch 1/10\n",
      "3/3 [==============================] - 10s 3s/step - loss: 4.8662 - accuracy: 0.4444 - val_loss: 0.7034 - val_accuracy: 0.6126\n",
      "Epoch 2/10\n",
      "3/3 [==============================] - 9s 3s/step - loss: 0.4851 - accuracy: 0.8889 - val_loss: 0.7320 - val_accuracy: 0.6126\n",
      "Epoch 3/10\n",
      "3/3 [==============================] - 9s 3s/step - loss: 1.0259 - accuracy: 0.5556 - val_loss: 0.6437 - val_accuracy: 0.6877\n",
      "Epoch 4/10\n",
      "3/3 [==============================] - 8s 3s/step - loss: 0.5846 - accuracy: 0.7778 - val_loss: 0.5566 - val_accuracy: 0.7628\n",
      "Epoch 5/10\n",
      "3/3 [==============================] - 8s 3s/step - loss: 0.5044 - accuracy: 0.7778 - val_loss: 0.4943 - val_accuracy: 0.7984\n",
      "Epoch 6/10\n",
      "3/3 [==============================] - 9s 3s/step - loss: 0.4681 - accuracy: 0.6667 - val_loss: 0.5599 - val_accuracy: 0.7708\n",
      "Epoch 7/10\n",
      "3/3 [==============================] - 8s 3s/step - loss: 0.3551 - accuracy: 0.7778 - val_loss: 0.6170 - val_accuracy: 0.7510\n",
      "Epoch 8/10\n",
      "3/3 [==============================] - 8s 3s/step - loss: 0.6592 - accuracy: 0.6667 - val_loss: 0.5142 - val_accuracy: 0.7589\n",
      "Epoch 9/10\n",
      "3/3 [==============================] - 8s 3s/step - loss: 0.5966 - accuracy: 0.6667 - val_loss: 0.4881 - val_accuracy: 0.7945\n",
      "Epoch 10/10\n",
      "3/3 [==============================] - 8s 3s/step - loss: 0.5895 - accuracy: 0.5556 - val_loss: 0.4879 - val_accuracy: 0.8024\n"
     ]
    }
   ],
   "source": [
    "fitModel = dataModel.fit(trainDataset, steps_per_epoch = 3, epochs=10, validation_data = validDataset)"
   ]
  },
  {
   "cell_type": "code",
   "execution_count": 71,
   "id": "13ebdc2a",
   "metadata": {},
   "outputs": [],
   "source": []
  },
  {
   "cell_type": "code",
   "execution_count": 72,
   "id": "1f94e92d",
   "metadata": {},
   "outputs": [
    {
     "name": "stdout",
     "output_type": "stream",
     "text": [
      "/Users/minsookim/opt/anaconda3/envs/tensorflow/lib/python3.7/site-packages/PIL/Image.py\n"
     ]
    }
   ],
   "source": []
  },
  {
   "cell_type": "code",
   "execution_count": 73,
   "id": "ec75a0e7",
   "metadata": {},
   "outputs": [
    {
     "name": "stdout",
     "output_type": "stream",
     "text": [
      "/Users/minsookim/opt/anaconda3/envs/tensorflow/lib/python3.7/site-packages/PIL/Image.py\n"
     ]
    }
   ],
   "source": []
  },
  {
   "cell_type": "code",
   "execution_count": null,
   "id": "06873fa7",
   "metadata": {},
   "outputs": [],
   "source": []
  }
 ],
 "metadata": {
  "kernelspec": {
   "display_name": "Python 3 (ipykernel)",
   "language": "python",
   "name": "python3"
  },
  "language_info": {
   "codemirror_mode": {
    "name": "ipython",
    "version": 3
   },
   "file_extension": ".py",
   "mimetype": "text/x-python",
   "name": "python",
   "nbconvert_exporter": "python",
   "pygments_lexer": "ipython3",
   "version": "3.7.13"
  }
 },
 "nbformat": 4,
 "nbformat_minor": 5
}